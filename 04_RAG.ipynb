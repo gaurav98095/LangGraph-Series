{
 "cells": [
  {
   "cell_type": "markdown",
   "id": "bbbd6957",
   "metadata": {},
   "source": [
    "### RAG\n",
    "- What is RAG\n",
    "- Embedding Document Using ChromaDB\n",
    "- Implementing RAG App"
   ]
  },
  {
   "cell_type": "markdown",
   "id": "08bac531",
   "metadata": {},
   "source": [
    "##### What is RAG?\n",
    "- RAG is like giving your AI a reference book before it answers you.\n",
    "\n",
    "If you’ve ever asked ChatGPT something and it confidently made stuff up, you know why we need this i.e `hallucinations`\n",
    "\n",
    "##### How it Works\n",
    "\n",
    "- User asks a question\n",
    "\n",
    "- Retriever searches a database or vector store for relevant documents\n",
    "\n",
    "- LLM reads those retrieved documents\n",
    "\n",
    "- LLM generates a final answer using both the context and its own knowledge\n",
    "\n",
    "\n",
    "##### Example Flow in LangGraph\n",
    "\n",
    "- Node 1: Take the user’s question\n",
    "\n",
    "- Node 2: Call a retriever tool (e.g., vectorstore.similarity_search())\n",
    "\n",
    "- Node 3: Pass the retrieved docs + question to the LLM node\n",
    "\n",
    "- State: Stores both the question and the retrieved documents"
   ]
  },
  {
   "cell_type": "code",
   "execution_count": 1,
   "id": "94325a38",
   "metadata": {},
   "outputs": [
    {
     "data": {
      "text/plain": [
       "True"
      ]
     },
     "execution_count": 1,
     "metadata": {},
     "output_type": "execute_result"
    }
   ],
   "source": [
    "from dotenv import load_dotenv\n",
    "\n",
    "load_dotenv()"
   ]
  },
  {
   "cell_type": "code",
   "execution_count": 4,
   "id": "b897174a",
   "metadata": {},
   "outputs": [],
   "source": [
    "from langchain.schema import Document\n",
    "from langchain_openai import OpenAIEmbeddings\n",
    "from langchain_community.vectorstores import Chroma\n",
    "\n",
    "# Create embedding function\n",
    "embedding_function = OpenAIEmbeddings()\n",
    "\n",
    "# Example product and store info documents\n",
    "docs = [\n",
    "    Document(\n",
    "        page_content=\"TechZone is owned by Priya Sharma, a former engineer who started the store to bring the latest gadgets to her hometown. She has over 15 years of experience in consumer electronics.\",\n",
    "        metadata={\"source\": \"owner.txt\"},\n",
    "    ),\n",
    "    Document(\n",
    "        page_content=\"TechZone sells a wide range of products including smartphones, laptops, gaming consoles, and accessories. Smartphone prices start at ₹15,000, laptops range from ₹40,000 to ₹1,20,000, and gaming consoles are priced between ₹35,000 and ₹60,000.\",\n",
    "        metadata={\"source\": \"products.txt\"},\n",
    "    ),\n",
    "    Document(\n",
    "        page_content=\"TechZone is open from Tuesday to Sunday. Weekday hours are 10:00 AM to 8:00 PM, and weekend hours extend to 9:00 PM. The store is closed on Mondays.\",\n",
    "        metadata={\"source\": \"hours.txt\"},\n",
    "    ),\n",
    "    Document(\n",
    "        page_content=\"TechZone offers seasonal discounts during major festivals like Diwali and Christmas. Customers can also sign up for a membership program that gives 10% off on all accessories year-round.\",\n",
    "        metadata={\"source\": \"offers.txt\"},\n",
    "    ),\n",
    "]\n",
    "\n",
    "# Create a Chroma vector database\n",
    "db = Chroma.from_documents(docs, embedding_function)"
   ]
  },
  {
   "cell_type": "code",
   "execution_count": 5,
   "id": "f6032b7d",
   "metadata": {},
   "outputs": [],
   "source": [
    "retriever = db.as_retriever(search_kwargs={\"k\": 2})"
   ]
  },
  {
   "cell_type": "code",
   "execution_count": 6,
   "id": "3d7a8f93",
   "metadata": {},
   "outputs": [
    {
     "data": {
      "text/plain": [
       "[Document(metadata={'source': 'owner.txt'}, page_content='TechZone is owned by Priya Sharma, a former engineer who started the store to bring the latest gadgets to her hometown. She has over 15 years of experience in consumer electronics.'),\n",
       " Document(metadata={'source': 'hours.txt'}, page_content='TechZone is open from Tuesday to Sunday. Weekday hours are 10:00 AM to 8:00 PM, and weekend hours extend to 9:00 PM. The store is closed on Mondays.')]"
      ]
     },
     "execution_count": 6,
     "metadata": {},
     "output_type": "execute_result"
    }
   ],
   "source": [
    "retriever.invoke(\"Who is owner of techzone?\")"
   ]
  },
  {
   "cell_type": "code",
   "execution_count": 7,
   "id": "ae0b896a",
   "metadata": {},
   "outputs": [
    {
     "data": {
      "text/plain": [
       "[Document(metadata={'source': 'hours.txt'}, page_content='TechZone is open from Tuesday to Sunday. Weekday hours are 10:00 AM to 8:00 PM, and weekend hours extend to 9:00 PM. The store is closed on Mondays.'),\n",
       " Document(metadata={'source': 'offers.txt'}, page_content='TechZone offers seasonal discounts during major festivals like Diwali and Christmas. Customers can also sign up for a membership program that gives 10% off on all accessories year-round.')]"
      ]
     },
     "execution_count": 7,
     "metadata": {},
     "output_type": "execute_result"
    }
   ],
   "source": [
    "retriever.invoke(\"What are opening hours?\")"
   ]
  },
  {
   "cell_type": "markdown",
   "id": "74d6f7a2",
   "metadata": {},
   "source": [
    "### Adding RAG Component"
   ]
  },
  {
   "cell_type": "code",
   "execution_count": 8,
   "id": "d3bc089c",
   "metadata": {},
   "outputs": [],
   "source": [
    "from langchain_core.prompts import ChatPromptTemplate\n",
    "\n",
    "template = \"\"\"Answer the question based only on the following context:\n",
    "{context}\n",
    "Question: {question}\n",
    "\"\"\"\n",
    "\n",
    "prompt = ChatPromptTemplate.from_template(template)"
   ]
  },
  {
   "cell_type": "code",
   "execution_count": 9,
   "id": "880b0b74",
   "metadata": {},
   "outputs": [
    {
     "name": "stderr",
     "output_type": "stream",
     "text": [
      "/Users/g/miniconda3/envs/langgraph/lib/python3.11/site-packages/langsmith/client.py:272: LangSmithMissingAPIKeyWarning: API key must be provided when using hosted LangSmith API\n",
      "  warnings.warn(\n"
     ]
    }
   ],
   "source": [
    "from langchain import hub\n",
    "from langchain_core.output_parsers import StrOutputParser\n",
    "from langchain_core.runnables import RunnablePassthrough\n",
    "from langchain_openai import ChatOpenAI\n",
    "\n",
    "prompt = hub.pull(\"rlm/rag-prompt\")  # use hub to pull RAG-prompt\n",
    "\n",
    "\n",
    "def format_docs(docs):\n",
    "    return \"\\n\\n\".join(doc.page_content for doc in docs)"
   ]
  },
  {
   "cell_type": "code",
   "execution_count": 10,
   "id": "e59f4ad8",
   "metadata": {},
   "outputs": [],
   "source": [
    "qa_chain = (\n",
    "    {\n",
    "        \"context\": retriever | format_docs,\n",
    "        \"question\": RunnablePassthrough(),\n",
    "    }\n",
    "    | prompt\n",
    "    | ChatOpenAI()\n",
    "    | StrOutputParser()\n",
    ")"
   ]
  },
  {
   "cell_type": "code",
   "execution_count": 11,
   "id": "8d4bb009",
   "metadata": {},
   "outputs": [
    {
     "data": {
      "text/plain": [
       "'TechZone is open from Tuesday to Sunday, with weekday hours from 10:00 AM to 8:00 PM, and weekend hours until 9:00 PM. The store is closed on Mondays.'"
      ]
     },
     "execution_count": 11,
     "metadata": {},
     "output_type": "execute_result"
    }
   ],
   "source": [
    "qa_chain.invoke(\"When are the opening hours?\")"
   ]
  },
  {
   "cell_type": "code",
   "execution_count": 12,
   "id": "97fd9acd",
   "metadata": {},
   "outputs": [
    {
     "data": {
      "text/plain": [
       "'TechZone is owned by Priya Sharma, a former engineer with over 15 years of experience in consumer electronics. She started the store to bring the latest gadgets to her hometown.'"
      ]
     },
     "execution_count": 12,
     "metadata": {},
     "output_type": "execute_result"
    }
   ],
   "source": [
    "qa_chain.invoke(\"Who is owner of techzone?\")"
   ]
  }
 ],
 "metadata": {
  "kernelspec": {
   "display_name": "langgraph",
   "language": "python",
   "name": "python3"
  },
  "language_info": {
   "codemirror_mode": {
    "name": "ipython",
    "version": 3
   },
   "file_extension": ".py",
   "mimetype": "text/x-python",
   "name": "python",
   "nbconvert_exporter": "python",
   "pygments_lexer": "ipython3",
   "version": "3.11.13"
  }
 },
 "nbformat": 4,
 "nbformat_minor": 5
}
