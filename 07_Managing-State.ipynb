{
 "cells": [
  {
   "cell_type": "markdown",
   "id": "2035d9f2",
   "metadata": {},
   "source": [
    "### Managing State\n"
   ]
  },
  {
   "cell_type": "code",
   "execution_count": 1,
   "id": "1309bf9c",
   "metadata": {},
   "outputs": [
    {
     "data": {
      "text/plain": [
       "True"
      ]
     },
     "execution_count": 1,
     "metadata": {},
     "output_type": "execute_result"
    }
   ],
   "source": [
    "from dotenv import load_dotenv\n",
    "\n",
    "load_dotenv()"
   ]
  },
  {
   "cell_type": "markdown",
   "id": "a123eed1",
   "metadata": {},
   "source": [
    "#### Input & Output State"
   ]
  },
  {
   "cell_type": "code",
   "execution_count": 2,
   "id": "7bf1a722",
   "metadata": {},
   "outputs": [],
   "source": [
    "from langchain_openai import ChatOpenAI\n",
    "from langgraph.graph import END, START, StateGraph\n",
    "\n",
    "model = ChatOpenAI()"
   ]
  },
  {
   "cell_type": "code",
   "execution_count": 3,
   "id": "28f5fabd",
   "metadata": {},
   "outputs": [],
   "source": [
    "from typing import TypedDict\n",
    "\n",
    "\n",
    "class ChatMessages(TypedDict):\n",
    "    question: str\n",
    "    answer: str\n",
    "    llm_calls: int"
   ]
  },
  {
   "cell_type": "code",
   "execution_count": 4,
   "id": "859b6732",
   "metadata": {},
   "outputs": [],
   "source": [
    "def call_model(state: ChatMessages):\n",
    "    question = state[\"question\"]\n",
    "    llm_calls = state.get(\"llm_calls\", 0)\n",
    "    state[\"llm_calls\"] = llm_calls + 1\n",
    "    print(\"LLM_CALLS:\", state[\"llm_calls\"])\n",
    "    response = model.invoke(input=question)\n",
    "    state[\"answer\"] = response.content\n",
    "    return state"
   ]
  },
  {
   "cell_type": "code",
   "execution_count": 5,
   "id": "bee1edd3",
   "metadata": {},
   "outputs": [],
   "source": [
    "workflow = StateGraph(ChatMessages)\n",
    "\n",
    "workflow.add_edge(START, \"agent\")\n",
    "workflow.add_node(\"agent\", call_model)\n",
    "workflow.add_edge(\"agent\", END)\n",
    "\n",
    "graph = workflow.compile()"
   ]
  },
  {
   "cell_type": "code",
   "execution_count": 7,
   "id": "6fbe182f",
   "metadata": {},
   "outputs": [
    {
     "name": "stdout",
     "output_type": "stream",
     "text": [
      "LLM_CALLS: 1\n"
     ]
    },
    {
     "data": {
      "text/plain": [
       "{'question': 'Where is Silicon Valley?',\n",
       " 'answer': 'Silicon Valley is located in the southern part of the San Francisco Bay Area in Northern California, United States.',\n",
       " 'llm_calls': 1}"
      ]
     },
     "execution_count": 7,
     "metadata": {},
     "output_type": "execute_result"
    }
   ],
   "source": [
    "graph.invoke(input={\"question\": \"Where is Silicon Valley?\"})"
   ]
  },
  {
   "cell_type": "code",
   "execution_count": null,
   "id": "a951e17f",
   "metadata": {},
   "outputs": [],
   "source": [
    "from langgraph.graph import StateGraph, START, END\n",
    "from typing_extensions import TypedDict\n",
    "\n",
    "class InputState(TypedDict):\n",
    "    question: str\n",
    "\n",
    "class PrivateState(TypedDict):\n",
    "    llm_calls: int\n",
    "\n",
    "class OutputState(TypedDict):\n",
    "    answer: str\n",
    "\n",
    "class OverallState(InputState, PrivateState, OutputState):\n",
    "    pass"
   ]
  },
  {
   "cell_type": "code",
   "execution_count": 10,
   "id": "68305fab",
   "metadata": {},
   "outputs": [],
   "source": [
    "workflow = StateGraph(state_schema=OverallState, input_schema=InputState, output_schema=OutputState)\n",
    "\n",
    "workflow.add_edge(START, \"agent\")\n",
    "workflow.add_node(\"agent\", call_model)\n",
    "workflow.add_edge(\"agent\", END)\n",
    "\n",
    "graph = workflow.compile()"
   ]
  },
  {
   "cell_type": "code",
   "execution_count": 12,
   "id": "52cf29bb",
   "metadata": {},
   "outputs": [
    {
     "name": "stdout",
     "output_type": "stream",
     "text": [
      "LLM_CALLS: 1\n"
     ]
    },
    {
     "data": {
      "text/plain": [
       "{'answer': 'Silicon Valley is located in northern California, in the southern part of the San Francisco Bay Area. It encompasses a number of cities and communities, including Palo Alto, Mountain View, Cupertino, and San Jose.'}"
      ]
     },
     "execution_count": 12,
     "metadata": {},
     "output_type": "execute_result"
    }
   ],
   "source": [
    "graph.invoke(input={\"question\": \"Where is Silicon Valley?\"})"
   ]
  },
  {
   "cell_type": "markdown",
   "id": "b937306d",
   "metadata": {},
   "source": [
    "#### Run Time Configuration"
   ]
  },
  {
   "cell_type": "code",
   "execution_count": 13,
   "id": "8e616499",
   "metadata": {},
   "outputs": [],
   "source": [
    "from langgraph.graph import StateGraph, START, END\n",
    "from langchain_core.runnables.config import RunnableConfig\n",
    "from langchain.schema import SystemMessage, HumanMessage\n",
    "\n",
    "\n",
    "def call_model(state: OverallState, config: RunnableConfig):\n",
    "    language = config[\"configurable\"].get(\"language\", \"English\")\n",
    "    system_message_content = \"Respond in {}\".format(language)\n",
    "    system_message = SystemMessage(content=system_message_content)\n",
    "    messages = [system_message, HumanMessage(content=state[\"question\"])]\n",
    "    response = model.invoke(messages)\n",
    "    return {\"answer\": response}\n"
   ]
  },
  {
   "cell_type": "code",
   "execution_count": 14,
   "id": "0666b369",
   "metadata": {},
   "outputs": [],
   "source": [
    "workflow = StateGraph(ChatMessages)\n",
    "\n",
    "workflow.add_edge(START, \"agent\")\n",
    "workflow.add_node(\"agent\", call_model)\n",
    "workflow.add_edge(\"agent\", END)\n",
    "\n",
    "graph = workflow.compile()"
   ]
  },
  {
   "cell_type": "code",
   "execution_count": 15,
   "id": "223247a2",
   "metadata": {},
   "outputs": [
    {
     "data": {
      "text/plain": [
       "{'question': 'Where is Silicon Valley?',\n",
       " 'answer': AIMessage(content='सिलिकॉन वैली कैलिफोर्निया, संयुक्त राज्य अमेरिका में स्थित है। यह सान फ्रांसिस्को उपनगरीय क्षेत्र में है और तकनीकी कंपनियों के मुख्य केंद्र के रूप में मशहूर है।', additional_kwargs={'refusal': None}, response_metadata={'token_usage': {'completion_tokens': 156, 'prompt_tokens': 19, 'total_tokens': 175, 'completion_tokens_details': {'accepted_prediction_tokens': 0, 'audio_tokens': 0, 'reasoning_tokens': 0, 'rejected_prediction_tokens': 0}, 'prompt_tokens_details': {'audio_tokens': 0, 'cached_tokens': 0}}, 'model_name': 'gpt-3.5-turbo-0125', 'system_fingerprint': None, 'id': 'chatcmpl-C5ESPzbou3azieaVmyK8bN7cjF8sr', 'service_tier': 'default', 'finish_reason': 'stop', 'logprobs': None}, id='run--380fe55c-e03e-4d8f-8750-7123e6ef1082-0', usage_metadata={'input_tokens': 19, 'output_tokens': 156, 'total_tokens': 175, 'input_token_details': {'audio': 0, 'cache_read': 0}, 'output_token_details': {'audio': 0, 'reasoning': 0}})}"
      ]
     },
     "execution_count": 15,
     "metadata": {},
     "output_type": "execute_result"
    }
   ],
   "source": [
    "config = {\"configurable\": {\"language\": \"hindi\"}}\n",
    "graph.invoke(input={\"question\": \"Where is Silicon Valley?\"}, config=config)"
   ]
  },
  {
   "cell_type": "code",
   "execution_count": 16,
   "id": "b38eb309",
   "metadata": {},
   "outputs": [
    {
     "data": {
      "text/plain": [
       "{'question': 'Where is Silicon Valley?',\n",
       " 'answer': AIMessage(content='Silicon Valley befindet sich im Bundesstaat Kalifornien in den Vereinigten Staaten. Es ist in der Nähe von San Francisco und erstreckt sich über mehrere Städte wie Palo Alto, Mountain View und Cupertino. Es ist bekannt für seine hohe Konzentration an Technologieunternehmen und Start-ups.', additional_kwargs={'refusal': None}, response_metadata={'token_usage': {'completion_tokens': 70, 'prompt_tokens': 19, 'total_tokens': 89, 'completion_tokens_details': {'accepted_prediction_tokens': 0, 'audio_tokens': 0, 'reasoning_tokens': 0, 'rejected_prediction_tokens': 0}, 'prompt_tokens_details': {'audio_tokens': 0, 'cached_tokens': 0}}, 'model_name': 'gpt-3.5-turbo-0125', 'system_fingerprint': None, 'id': 'chatcmpl-C5ESWnNYQTPS6VVHC0mUY8gr0LbA3', 'service_tier': 'default', 'finish_reason': 'stop', 'logprobs': None}, id='run--86c612a5-57ff-4a9a-bada-4e4405376695-0', usage_metadata={'input_tokens': 19, 'output_tokens': 70, 'total_tokens': 89, 'input_token_details': {'audio': 0, 'cache_read': 0}, 'output_token_details': {'audio': 0, 'reasoning': 0}})}"
      ]
     },
     "execution_count": 16,
     "metadata": {},
     "output_type": "execute_result"
    }
   ],
   "source": [
    "config = {\"configurable\": {\"language\": \"german\"}}\n",
    "graph.invoke(input={\"question\": \"Where is Silicon Valley?\"}, config=config)"
   ]
  }
 ],
 "metadata": {
  "kernelspec": {
   "display_name": "langgraph",
   "language": "python",
   "name": "python3"
  },
  "language_info": {
   "codemirror_mode": {
    "name": "ipython",
    "version": 3
   },
   "file_extension": ".py",
   "mimetype": "text/x-python",
   "name": "python",
   "nbconvert_exporter": "python",
   "pygments_lexer": "ipython3",
   "version": "3.11.13"
  }
 },
 "nbformat": 4,
 "nbformat_minor": 5
}
