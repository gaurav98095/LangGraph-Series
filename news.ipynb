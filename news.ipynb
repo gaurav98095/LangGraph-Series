{
 "cells": [
  {
   "cell_type": "code",
   "execution_count": 8,
   "id": "be3f8696",
   "metadata": {},
   "outputs": [
    {
     "name": "stdout",
     "output_type": "stream",
     "text": [
      "✅ Preprocessed News Summaries:\n",
      "\n",
      "[Technology] AI beats humans in coding contest - OpenAI model wins......\n",
      "[Sports] India wins cricket test series - Exciting match highlights......\n",
      "[Finance] Stock markets hit record high - Investors cheer as......\n",
      "\n",
      "🎯 Personalized Feed for user123:\n",
      "\n",
      "[Technology] AI beats humans in coding contest - OpenAI model wins......\n",
      "[Sports] India wins cricket test series - Exciting match highlights......\n",
      "[Finance] Stock markets hit record high - Investors cheer as......\n",
      "\n",
      "User Feedback: {'liked': ['AI beats humans in coding contest'], 'disliked': ['Stock markets hit record high']}\n"
     ]
    }
   ],
   "source": [
    "from langgraph.graph import StateGraph, END\n",
    "from typing import TypedDict, List, Dict\n",
    "\n",
    "# ----------- State Definitions -----------\n",
    "class NewsState(TypedDict):\n",
    "    articles: List[Dict]\n",
    "    categorized: List[Dict]\n",
    "    summaries: List[Dict]\n",
    "\n",
    "class UserState(TypedDict):\n",
    "    user_id: str\n",
    "    summaries: List[Dict]        # loaded from preprocessing\n",
    "    personalized: List[Dict]\n",
    "    feedback: Dict\n",
    "\n",
    "# ----------- Preprocessing Pipeline (Independent of User) -----------\n",
    "def fetch_news(state: NewsState) -> NewsState:\n",
    "    # Dummy articles (replace with NewsAPI/RSS)\n",
    "    articles = [\n",
    "        {\"title\": \"AI beats humans in coding contest\", \"content\": \"OpenAI model wins...\"},\n",
    "        {\"title\": \"India wins cricket test series\", \"content\": \"Exciting match highlights...\"},\n",
    "        {\"title\": \"Stock markets hit record high\", \"content\": \"Investors cheer as...\"}\n",
    "    ]\n",
    "    state[\"articles\"] = articles\n",
    "    return state\n",
    "\n",
    "def categorize(state: NewsState) -> NewsState:\n",
    "    categorized = []\n",
    "    for article in state[\"articles\"]:\n",
    "        if \"cricket\" in article[\"title\"].lower():\n",
    "            article[\"category\"] = \"Sports\"\n",
    "        elif \"stock\" in article[\"title\"].lower():\n",
    "            article[\"category\"] = \"Finance\"\n",
    "        else:\n",
    "            article[\"category\"] = \"Technology\"\n",
    "        categorized.append(article)\n",
    "    state[\"categorized\"] = categorized\n",
    "    return state\n",
    "\n",
    "def summarize(state: NewsState) -> NewsState:\n",
    "    summaries = []\n",
    "    for article in state[\"categorized\"]:\n",
    "        summary = f\"{article['title']} - {article['content'][:40]}...\"\n",
    "        summaries.append({**article, \"summary\": summary})\n",
    "    state[\"summaries\"] = summaries\n",
    "    return state\n",
    "\n",
    "# ----------- User Pipeline (Dependent on User) -----------\n",
    "def load_summaries(state: UserState, shared_summaries: List[Dict]) -> UserState:\n",
    "    state[\"summaries\"] = shared_summaries\n",
    "    return state\n",
    "\n",
    "def personalize(state: UserState) -> UserState:\n",
    "    # Example personalization (could use embeddings + memory)\n",
    "    priority = {\"Technology\": 1, \"Sports\": 2, \"Finance\": 3}\n",
    "    personalized = sorted(state[\"summaries\"], key=lambda x: priority[x[\"category\"]])\n",
    "    state[\"personalized\"] = personalized\n",
    "    return state\n",
    "\n",
    "def hitl_feedback(state: UserState) -> UserState:\n",
    "    # Simulated HITL feedback\n",
    "    feedback = {\n",
    "        \"liked\": [state[\"personalized\"][0][\"title\"]],\n",
    "        \"disliked\": [state[\"personalized\"][-1][\"title\"]]\n",
    "    }\n",
    "    state[\"feedback\"] = feedback\n",
    "    return state\n",
    "\n",
    "# ----------- Build Preprocessing Graph -----------\n",
    "pre_graph = StateGraph(NewsState)\n",
    "pre_graph.add_node(\"fetch_news\", fetch_news)\n",
    "pre_graph.add_node(\"categorize\", categorize)\n",
    "pre_graph.add_node(\"summarize\", summarize)\n",
    "\n",
    "pre_graph.set_entry_point(\"fetch_news\")\n",
    "pre_graph.add_edge(\"fetch_news\", \"categorize\")\n",
    "pre_graph.add_edge(\"categorize\", \"summarize\")\n",
    "pre_graph.add_edge(\"summarize\", END)\n",
    "\n",
    "pre_app = pre_graph.compile()\n",
    "\n",
    "# ----------- Build User Graph -----------\n",
    "user_graph = StateGraph(UserState)\n",
    "user_graph.add_node(\"load_summaries\", lambda s: load_summaries(s, shared_summaries))\n",
    "user_graph.add_node(\"personalize\", personalize)\n",
    "user_graph.add_node(\"hitl_feedback\", hitl_feedback)\n",
    "\n",
    "user_graph.set_entry_point(\"load_summaries\")\n",
    "user_graph.add_edge(\"load_summaries\", \"personalize\")\n",
    "user_graph.add_edge(\"personalize\", \"hitl_feedback\")\n",
    "user_graph.add_edge(\"hitl_feedback\", END)\n",
    "\n",
    "# Compile later after preprocessing\n",
    "\n",
    "if __name__ == \"__main__\":\n",
    "    # Run preprocessing (independent)\n",
    "    pre_result = pre_app.invoke({})\n",
    "    shared_summaries = pre_result[\"summaries\"]\n",
    "\n",
    "    print(\"✅ Preprocessed News Summaries:\\n\")\n",
    "    for art in shared_summaries:\n",
    "        print(f\"[{art['category']}] {art['summary']}\")\n",
    "\n",
    "    # Now build user-specific graph with shared_summaries\n",
    "    user_app = user_graph.compile()\n",
    "    user_result = user_app.invoke({\"user_id\": \"user123\"})\n",
    "\n",
    "    print(\"\\n🎯 Personalized Feed for user123:\\n\")\n",
    "    for art in user_result[\"personalized\"]:\n",
    "        print(f\"[{art['category']}] {art['summary']}\")\n",
    "\n",
    "    print(\"\\nUser Feedback:\", user_result[\"feedback\"])\n"
   ]
  },
  {
   "cell_type": "code",
   "execution_count": 9,
   "id": "5a78a825",
   "metadata": {},
   "outputs": [
    {
     "data": {
      "image/png": "[encoded data removed]",
      "text/plain": [
       "<IPython.core.display.Image object>"
      ]
     },
     "metadata": {},
     "output_type": "display_data"
    }
   ],
   "source": [
    "from IPython.display import Image, display\n",
    "\n",
    "try:\n",
    "    display(Image(pre_app.get_graph().draw_mermaid_png()))\n",
    "except Exception as e:\n",
    "    print(e)"
   ]
  },
  {
   "cell_type": "code",
   "execution_count": 6,
   "id": "def70d5e",
   "metadata": {},
   "outputs": [
    {
     "data": {
      "image/png": "[encoded data removed]",
      "text/plain": [
       "<IPython.core.display.Image object>"
      ]
     },
     "metadata": {},
     "output_type": "display_data"
    }
   ],
   "source": [
    "from IPython.display import Image, display\n",
    "\n",
    "try:\n",
    "    display(Image(user_app.get_graph().draw_mermaid_png()))\n",
    "except Exception as e:\n",
    "    print(e)"
   ]
  },
  {
   "cell_type": "code",
   "execution_count": null,
   "id": "7105ed1e",
   "metadata": {},
   "outputs": [],
   "source": []
  }
 ],
 "metadata": {
  "kernelspec": {
   "display_name": "langgraph",
   "language": "python",
   "name": "python3"
  },
  "language_info": {
   "codemirror_mode": {
    "name": "ipython",
    "version": 3
   },
   "file_extension": ".py",
   "mimetype": "text/x-python",
   "name": "python",
   "nbconvert_exporter": "python",
   "pygments_lexer": "ipython3",
   "version": "3.11.13"
  }
 },
 "nbformat": 4,
 "nbformat_minor": 5
}
