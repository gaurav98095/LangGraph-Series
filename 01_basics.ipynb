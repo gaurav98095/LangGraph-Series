{
 "cells": [
  {
   "cell_type": "markdown",
   "id": "f7ad8f55",
   "metadata": {},
   "source": [
    "## Basic Concepts : Nodes, Edges & State\n",
    "\n",
    "- Explore Nodes, Edges & State\n",
    "- Vizualize LangGraph\n",
    "- Comparing LCEL and Langraph\n",
    "- Conditional Edges\n",
    "- Reducer Function\n",
    "\n",
    "\n",
    "#### Nodes\n",
    "\n",
    "➡ A node is just a function or step that does something in your LangGraph.\n",
    "\n",
    "**Example:** generate_text(), search_database()\n",
    "\n",
    "### Edges\n",
    "➡ An edge is the connection from one node to another.\n",
    "It tells the graph which node runs next.\n",
    "\n",
    "**Example:** edge(from=generate_text, to=summarize)\n",
    "\n",
    "#### State\n",
    "➡ State is a shared data object that moves through the graph.\n",
    "Every node can read and update it.\n",
    "\n",
    "**Example:** state[\"answer\"] = \"Hello World\"\n",
    "\n",
    "\n",
    "\n",
    "#### Eg:\n",
    "**User**  -> Find me the cheapest flight to Goa\n",
    "\n",
    "**Agent 1** -> Search Flight\n",
    "\n",
    "**Agent 2** -> Compares Cost and check timings\n",
    "\n",
    "**Agent 3** -> Summarizes the result"
   ]
  },
  {
   "cell_type": "code",
   "execution_count": null,
   "id": "bb67955e",
   "metadata": {},
   "outputs": [],
   "source": [
    "!pip install langgraph"
   ]
  },
  {
   "cell_type": "code",
   "execution_count": 5,
   "id": "e8d3e79b",
   "metadata": {},
   "outputs": [],
   "source": [
    "from typing import TypedDict\n",
    "from langgraph.graph import END, START, StateGraph\n",
    "\n",
    "\n",
    "class InputState(TypedDict):\n",
    "    string_value: str\n",
    "    numeric_value: int\n",
    "\n",
    "def modify_state(input: InputState):\n",
    "    print(f\"Current value: {input}\")\n",
    "    return input\n",
    "\n",
    "graph = StateGraph(InputState)\n",
    "\n",
    "graph.add_node(\"branch_a\", modify_state)\n",
    "graph.add_node(\"branch_b\", modify_state)\n",
    "\n",
    "# graph.add_edge(START, \"branch_a\")\n",
    "graph.set_entry_point(\"branch_a\")\n",
    "graph.add_edge(\"branch_a\", \"branch_b\")\n",
    "graph.add_edge(\"branch_b\", END)\n",
    "\n",
    "runnable = graph.compile()"
   ]
  },
  {
   "cell_type": "code",
   "execution_count": 6,
   "id": "5eaf6401",
   "metadata": {},
   "outputs": [
    {
     "data": {
      "image/png": "[encoded data removed]",
      "text/plain": [
       "<IPython.core.display.Image object>"
      ]
     },
     "metadata": {},
     "output_type": "display_data"
    }
   ],
   "source": [
    "from IPython.display import Image, display\n",
    "from langchain_core.runnables.graph import MermaidDrawMethod\n",
    "\n",
    "display(\n",
    "    Image(\n",
    "        runnable.get_graph().draw_mermaid_png(\n",
    "            draw_method=MermaidDrawMethod.API,\n",
    "        )\n",
    "    )\n",
    ")"
   ]
  },
  {
   "cell_type": "code",
   "execution_count": 7,
   "id": "61479581",
   "metadata": {},
   "outputs": [
    {
     "name": "stdout",
     "output_type": "stream",
     "text": [
      "Current value: {'string_value': 'a'}\n",
      "Current value: {'string_value': 'a'}\n"
     ]
    },
    {
     "data": {
      "text/plain": [
       "{'string_value': 'a'}"
      ]
     },
     "execution_count": 7,
     "metadata": {},
     "output_type": "execute_result"
    }
   ],
   "source": [
    "runnable.invoke({\"string_value\": \"a\"})"
   ]
  },
  {
   "cell_type": "code",
   "execution_count": 8,
   "id": "3e823bba",
   "metadata": {},
   "outputs": [
    {
     "name": "stdout",
     "output_type": "stream",
     "text": [
      "Current value: {'string_value': 'a', 'numeric_value': 1}\n",
      "Current value: {'string_value': 'a', 'numeric_value': 1}\n"
     ]
    },
    {
     "data": {
      "text/plain": [
       "{'string_value': 'a', 'numeric_value': 1}"
      ]
     },
     "execution_count": 8,
     "metadata": {},
     "output_type": "execute_result"
    }
   ],
   "source": [
    "runnable.invoke({\"string_value\": \"a\", \"numeric_value\": 1})"
   ]
  },
  {
   "cell_type": "code",
   "execution_count": 13,
   "id": "08152589",
   "metadata": {},
   "outputs": [],
   "source": [
    "def modify_state(input: InputState):\n",
    "    input['string_value'] = 'a'\n",
    "    input['numeric_value'] += 1\n",
    "    print(input)\n",
    "\n",
    "    return input"
   ]
  },
  {
   "cell_type": "code",
   "execution_count": 14,
   "id": "2dca6083",
   "metadata": {},
   "outputs": [],
   "source": [
    "graph = StateGraph(InputState)\n",
    "\n",
    "graph.add_node(\"branch_a\", modify_state)\n",
    "graph.add_node(\"branch_b\", modify_state)\n",
    "graph.add_edge(\"branch_a\", \"branch_b\")\n",
    "graph.add_edge(\"branch_b\", END)\n",
    "\n",
    "\n",
    "graph.set_entry_point(\"branch_a\")\n",
    "\n",
    "runnable = graph.compile()"
   ]
  },
  {
   "cell_type": "code",
   "execution_count": 15,
   "id": "b4debf65",
   "metadata": {},
   "outputs": [
    {
     "name": "stdout",
     "output_type": "stream",
     "text": [
      "{'string_value': 'a', 'numeric_value': 2}\n",
      "{'string_value': 'a', 'numeric_value': 3}\n"
     ]
    },
    {
     "data": {
      "text/plain": [
       "{'string_value': 'a', 'numeric_value': 3}"
      ]
     },
     "execution_count": 15,
     "metadata": {},
     "output_type": "execute_result"
    }
   ],
   "source": [
    "runnable.invoke({\"string_value\": \"a\", \"numeric_value\": 1})"
   ]
  },
  {
   "cell_type": "code",
   "execution_count": 16,
   "id": "6c42c53b",
   "metadata": {},
   "outputs": [
    {
     "name": "stdout",
     "output_type": "stream",
     "text": [
      "{'string_value': 'a', 'numeric_value': 2}\n",
      "{'string_value': 'a', 'numeric_value': 3}\n"
     ]
    },
    {
     "data": {
      "text/plain": [
       "{'string_value': 'a', 'numeric_value': 3}"
      ]
     },
     "execution_count": 16,
     "metadata": {},
     "output_type": "execute_result"
    }
   ],
   "source": [
    "from langchain_core.runnables import RunnableLambda\n",
    "\n",
    "\n",
    "runnable = RunnableLambda(modify_state)\n",
    "\n",
    "chain = runnable | runnable\n",
    "\n",
    "chain.invoke({\"string_value\": \"a\", \"numeric_value\": 1})"
   ]
  },
  {
   "cell_type": "code",
   "execution_count": 20,
   "id": "613d9f34",
   "metadata": {},
   "outputs": [],
   "source": [
    "def modify_state(input: InputState):\n",
    "    input[\"string_value\"] += \"a\"\n",
    "    input[\"numeric_value\"] += 1\n",
    "    print(input)\n",
    "    return input\n",
    "\n",
    "\n",
    "def router(input: InputState):\n",
    "    if input[\"numeric_value\"] < 5:\n",
    "        return \"branch_a\"\n",
    "    else:\n",
    "        return \"__end__\"\n",
    "\n",
    "\n",
    "graph = StateGraph(InputState)\n",
    "\n",
    "graph.set_entry_point(\"branch_a\")\n",
    "graph.add_node(\"branch_a\", modify_state)\n",
    "graph.add_node(\"branch_b\", modify_state)\n",
    "graph.add_edge(\"branch_a\", \"branch_b\")\n",
    "\n",
    "graph.add_conditional_edges(\n",
    "    \"branch_b\", router, {\"branch_a\": \"branch_a\", \"__end__\": END}\n",
    ")\n",
    "\n",
    "runnable = graph.compile()"
   ]
  },
  {
   "cell_type": "code",
   "execution_count": 21,
   "id": "e99d87dd",
   "metadata": {},
   "outputs": [
    {
     "data": {
      "image/png": "[encoded data removed]",
      "text/plain": [
       "<IPython.core.display.Image object>"
      ]
     },
     "metadata": {},
     "output_type": "display_data"
    }
   ],
   "source": [
    "from IPython.display import Image, display\n",
    "from langchain_core.runnables.graph import MermaidDrawMethod\n",
    "\n",
    "display(\n",
    "    Image(\n",
    "        runnable.get_graph().draw_mermaid_png(\n",
    "            draw_method=MermaidDrawMethod.API,\n",
    "        )\n",
    "    )\n",
    ")"
   ]
  },
  {
   "cell_type": "code",
   "execution_count": 22,
   "id": "321c9838",
   "metadata": {},
   "outputs": [
    {
     "name": "stdout",
     "output_type": "stream",
     "text": [
      "{'string_value': 'aa', 'numeric_value': 2}\n",
      "{'string_value': 'aaa', 'numeric_value': 3}\n",
      "{'string_value': 'aaaa', 'numeric_value': 4}\n",
      "{'string_value': 'aaaaa', 'numeric_value': 5}\n"
     ]
    },
    {
     "data": {
      "text/plain": [
       "{'string_value': 'aaaaa', 'numeric_value': 5}"
      ]
     },
     "execution_count": 22,
     "metadata": {},
     "output_type": "execute_result"
    }
   ],
   "source": [
    "runnable.invoke({\"string_value\": \"a\", \"numeric_value\": 1})"
   ]
  },
  {
   "cell_type": "code",
   "execution_count": 23,
   "id": "28d9ad6a",
   "metadata": {},
   "outputs": [],
   "source": [
    "from typing import TypedDict, Annotated\n",
    "from langgraph.graph import END, StateGraph\n",
    "from operator import add"
   ]
  },
  {
   "cell_type": "code",
   "execution_count": 24,
   "id": "660c1d9b",
   "metadata": {},
   "outputs": [],
   "source": [
    "class InputState(TypedDict):\n",
    "    no_change_value: str\n",
    "    string_value: Annotated[str, add]\n",
    "    numeric_value: Annotated[int, add]\n",
    "    list_value: Annotated[list[str], add]"
   ]
  },
  {
   "cell_type": "code",
   "execution_count": 25,
   "id": "da6809d1",
   "metadata": {},
   "outputs": [],
   "source": [
    "def modify_state(input: InputState):\n",
    "    return input"
   ]
  },
  {
   "cell_type": "code",
   "execution_count": 27,
   "id": "0565335c",
   "metadata": {},
   "outputs": [],
   "source": [
    "graph = StateGraph(InputState)\n",
    "\n",
    "graph.add_node(\"branch_a\", modify_state)\n",
    "graph.add_node(\"branch_b\", modify_state)\n",
    "graph.add_edge(\"branch_a\", \"branch_b\")\n",
    "graph.add_edge(\"branch_b\", END)\n",
    "\n",
    "graph.set_entry_point(\"branch_a\")\n",
    "\n",
    "runnable = graph.compile()"
   ]
  },
  {
   "cell_type": "code",
   "execution_count": 28,
   "id": "2b1dc5cd",
   "metadata": {},
   "outputs": [
    {
     "data": {
      "text/plain": [
       "{'no_change_value': 'a',\n",
       " 'string_value': 'aaaa',\n",
       " 'numeric_value': 4,\n",
       " 'list_value': ['a', 'a', 'a', 'a']}"
      ]
     },
     "execution_count": 28,
     "metadata": {},
     "output_type": "execute_result"
    }
   ],
   "source": [
    "runnable.invoke(\n",
    "    {\n",
    "        \"no_change_value\": \"a\",\n",
    "        \"string_value\": \"a\",\n",
    "        \"numeric_value\": 1,\n",
    "        \"list_value\": [\"a\"],\n",
    "    }\n",
    ")"
   ]
  }
 ],
 "metadata": {
  "kernelspec": {
   "display_name": "Python 3",
   "language": "python",
   "name": "python3"
  },
  "language_info": {
   "codemirror_mode": {
    "name": "ipython",
    "version": 3
   },
   "file_extension": ".py",
   "mimetype": "text/x-python",
   "name": "python",
   "nbconvert_exporter": "python",
   "pygments_lexer": "ipython3",
   "version": "3.11.11"
  }
 },
 "nbformat": 4,
 "nbformat_minor": 5
}
