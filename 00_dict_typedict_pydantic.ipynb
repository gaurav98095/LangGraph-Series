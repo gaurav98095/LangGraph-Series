{
 "cells": [
  {
   "cell_type": "markdown",
   "id": "36441ca7",
   "metadata": {},
   "source": [
    "## DICT vs TypedDict vs Pydantic"
   ]
  },
  {
   "cell_type": "code",
   "execution_count": 10,
   "id": "71d7c978",
   "metadata": {},
   "outputs": [
    {
     "data": {
      "text/plain": [
       "{'name': 'Alice', 'age': 25, 'hobby': ['painting', 12]}"
      ]
     },
     "execution_count": 10,
     "metadata": {},
     "output_type": "execute_result"
    }
   ],
   "source": [
    "user = {\"name\": \"Alice\", \"age\": 25}\n",
    "user[\"hobby\"] = [\"painting\", 12]\n",
    "\n",
    "user"
   ]
  },
  {
   "cell_type": "code",
   "execution_count": 12,
   "id": "c938270e",
   "metadata": {},
   "outputs": [],
   "source": [
    "from typing import TypedDict\n",
    "\n",
    "class User(TypedDict):\n",
    "    name: str\n",
    "    age: int\n",
    "\n",
    "user: User = {\"name\": \"Alice\", \"age\": \"sk\"}  # ✅ OK\n",
    "user[\"age\"] = \"twenty-five\""
   ]
  },
  {
   "cell_type": "code",
   "execution_count": null,
   "id": "1b8a8e35",
   "metadata": {},
   "outputs": [
    {
     "data": {
      "text/plain": [
       "User(name='Alice', age=10)"
      ]
     },
     "execution_count": 17,
     "metadata": {},
     "output_type": "execute_result"
    }
   ],
   "source": [
    "from pydantic import BaseModel\n",
    "\n",
    "class User(BaseModel):\n",
    "    name: str\n",
    "    age: int\n",
    "\n",
    "user = User(name = \"Alice\", age = \"10\")\n",
    "user"
   ]
  },
  {
   "cell_type": "code",
   "execution_count": null,
   "id": "43740f04",
   "metadata": {},
   "outputs": [],
   "source": []
  }
 ],
 "metadata": {
  "kernelspec": {
   "display_name": "Python 3",
   "language": "python",
   "name": "python3"
  },
  "language_info": {
   "codemirror_mode": {
    "name": "ipython",
    "version": 3
   },
   "file_extension": ".py",
   "mimetype": "text/x-python",
   "name": "python",
   "nbconvert_exporter": "python",
   "pygments_lexer": "ipython3",
   "version": "3.11.11"
  }
 },
 "nbformat": 4,
 "nbformat_minor": 5
}
